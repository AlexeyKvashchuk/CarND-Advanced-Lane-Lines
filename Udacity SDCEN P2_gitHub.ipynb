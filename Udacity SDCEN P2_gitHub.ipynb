{
 "cells": [
  {
   "cell_type": "markdown",
   "metadata": {
    "id": "fu0tiN3t6_1A"
   },
   "source": [
    "## Advanced Lane Finding Project\n",
    "\n",
    "The goals / steps of this project are the following:\n",
    "\n",
    "* Compute the camera calibration matrix and distortion coefficients given a set of chessboard images.\n",
    "* Apply a distortion correction to raw images.\n",
    "* Use color transforms, gradients, etc., to create a thresholded binary image.\n",
    "* Apply a perspective transform to rectify binary image (\"birds-eye view\").\n",
    "* Detect lane pixels and fit to find the lane boundary.\n",
    "* Determine the curvature of the lane and vehicle position with respect to center.\n",
    "* Warp the detected lane boundaries back onto the original image.\n",
    "* Output visual display of the lane boundaries and numerical estimation of lane curvature and vehicle position.\n",
    "\n",
    "---\n",
    "## Compute the camera calibration matrix and distortion coefficients given a set of chessboard images."
   ]
  },
  {
   "cell_type": "code",
   "execution_count": 1,
   "metadata": {
    "executionInfo": {
     "elapsed": 303,
     "status": "ok",
     "timestamp": 1609545696156,
     "user": {
      "displayName": "Alexei Kvaschuk",
      "photoUrl": "",
      "userId": "17144558416028762237"
     },
     "user_tz": 300
    },
    "id": "jBMmDJKcwwGI"
   },
   "outputs": [],
   "source": [
    "import numpy as np\n",
    "import cv2\n",
    "import glob\n",
    "import matplotlib.pyplot as plt\n",
    "import matplotlib.image as mpimg\n",
    "import collections\n",
    "#%matplotlib qt"
   ]
  },
  {
   "cell_type": "code",
   "execution_count": 2,
   "metadata": {
    "id": "1eUryDBy4L7_"
   },
   "outputs": [
    {
     "name": "stdout",
     "output_type": "stream",
     "text": [
      "camera_cal/calibration3.jpg\n",
      "camera_cal/calibration9.jpg\n",
      "camera_cal/calibration12.jpg\n",
      "camera_cal/calibration20.jpg\n",
      "camera_cal/calibration18_corners_output.jpg\n",
      "camera_cal/calibration12_corners_output.jpg\n",
      "camera_cal/calibration16.jpg\n",
      "camera_cal/calibration13.jpg\n",
      "camera_cal/calibration14.jpg\n",
      "camera_cal/calibration4.jpg\n",
      "camera_cal/calibration20_corners_output.jpg\n",
      "camera_cal/calibration6_corners_output.jpg\n",
      "camera_cal/calibration7.jpg\n",
      "camera_cal/calibration2.jpg\n",
      "camera_cal/calibration3_corners_output.jpg\n",
      "camera_cal/calibration11.jpg\n",
      "camera_cal/calibration11_corners_output.jpg\n",
      "camera_cal/calibration17.jpg\n",
      "camera_cal/calibration1.jpg\n",
      "camera_cal/calibration19.jpg\n",
      "camera_cal/calibration2_corners_output.jpg\n",
      "camera_cal/calibration10.jpg\n",
      "camera_cal/calibration5.jpg\n",
      "camera_cal/calibration19_corners_output.jpg\n",
      "camera_cal/calibration3_corners_output_corners_output.jpg\n",
      "camera_cal/calibration14_corners_output.jpg\n",
      "camera_cal/calibration15_corners_output.jpg\n",
      "camera_cal/calibration15.jpg\n",
      "camera_cal/calibration3_corners_output_corners_output_corners_output_corners_output.jpg\n",
      "camera_cal/calibration7_corners_output.jpg\n",
      "camera_cal/calibration3_corners_output_corners_output_corners_output_corners_output_corners_output.jpg\n",
      "camera_cal/calibration10_corners_output.jpg\n",
      "camera_cal/calibration9_corners_output.jpg\n",
      "camera_cal/calibration17_corners_output.jpg\n",
      "camera_cal/calibration8.jpg\n",
      "camera_cal/calibration16_corners_output.jpg\n",
      "camera_cal/calibration6.jpg\n",
      "camera_cal/calibration3_corners_output_corners_output_corners_output.jpg\n",
      "camera_cal/calibration18.jpg\n",
      "camera_cal/calibration8_corners_output.jpg\n",
      "camera_cal/calibration13_corners_output.jpg\n"
     ]
    }
   ],
   "source": [
    "# prepare object points, like (0,0,0), (1,0,0), (2,0,0) ....,(6,5,0)\n",
    "objp = np.zeros((6*9,3), np.float32)\n",
    "objp[:,:2] = np.mgrid[0:9,0:6].T.reshape(-1,2)\n",
    "\n",
    "# Arrays to store object points and image points from all the images.\n",
    "objpoints = [] # 3d points in real world space\n",
    "imgpoints = [] # 2d points in image plane.\n",
    "\n",
    "# Make a list of calibration images\n",
    "images = glob.glob('camera_cal/calibration*.jpg')\n",
    "\n",
    "\n",
    "# Step through the list and search for chessboard corners\n",
    "for fname in images:\n",
    "    img = cv2.imread(fname)\n",
    "    gray = cv2.cvtColor(img,cv2.COLOR_BGR2GRAY)\n",
    "    print(fname)\n",
    "\n",
    "    # Find the chessboard corners\n",
    "    ret, corners = cv2.findChessboardCorners(gray, (9,6),None)\n",
    "\n",
    "    # If found, add object points, image points\n",
    "    if ret == True:\n",
    "        objpoints.append(objp)\n",
    "        imgpoints.append(corners)\n",
    "\n",
    "        # Draw and display the corners\n",
    "        img = cv2.drawChessboardCorners(img, (9,6), corners, ret)\n",
    "        mpimg.imsave(fname[:-4] + '_corners_output.jpg', img)\n",
    "\n",
    "\n",
    "img = cv2.imread(images[0])\n",
    "ret, mtx, dist, rvecs, tvecs = cv2.calibrateCamera(objpoints, imgpoints, img.shape[1::-1], None, None)\n",
    "\n",
    "#save camera matrix and distrotion coefficients (since it's calculated once)\n",
    "np.save('camera_matrix.npy', mtx)\n",
    "np.save('distortion_coeffs.npy', dist) "
   ]
  },
  {
   "cell_type": "code",
   "execution_count": 4,
   "metadata": {
    "executionInfo": {
     "elapsed": 3079,
     "status": "ok",
     "timestamp": 1609545711015,
     "user": {
      "displayName": "Alexei Kvaschuk",
      "photoUrl": "",
      "userId": "17144558416028762237"
     },
     "user_tz": 300
    },
    "id": "t2yWtswVIcZG"
   },
   "outputs": [],
   "source": [
    "#use np.load(base_dir + 'camera_matrix.npy') to load\n",
    "mtx = np.load('camera_matrix.npy')\n",
    "dist = np.load('distortion_coeffs.npy')"
   ]
  },
  {
   "cell_type": "markdown",
   "metadata": {
    "id": "KuKCdGUJ8_vu"
   },
   "source": [
    "## Apply a distortion correction to raw images."
   ]
  },
  {
   "cell_type": "code",
   "execution_count": 5,
   "metadata": {
    "id": "b11C8Q374L-n"
   },
   "outputs": [],
   "source": [
    "img = mpimg.imread('test_images/test2.jpg')\n",
    "\n",
    "undistorted_img = cv2.undistort(img, mtx, dist, None, mtx)"
   ]
  },
  {
   "cell_type": "markdown",
   "metadata": {
    "id": "olJpH5e5-9vZ"
   },
   "source": [
    "## Use color transforms, gradients, etc., to create a thresholded binary image."
   ]
  },
  {
   "cell_type": "code",
   "execution_count": 3,
   "metadata": {
    "executionInfo": {
     "elapsed": 613,
     "status": "ok",
     "timestamp": 1609545743111,
     "user": {
      "displayName": "Alexei Kvaschuk",
      "photoUrl": "",
      "userId": "17144558416028762237"
     },
     "user_tz": 300
    },
    "id": "0qTiS9054MDg"
   },
   "outputs": [],
   "source": [
    "def Color_Gradient_Combined_Edges(img, s_thresh=(170, 255), sx_thresh=(20, 100)):\n",
    "  \n",
    "  # Convert to HLS color space and separate the S channel\n",
    "  # img is the undistorted image\n",
    "  hls = cv2.cvtColor(img, cv2.COLOR_RGB2HLS)\n",
    "  s_channel = hls[:,:,2]\n",
    "\n",
    "  # Explore gradients in other colors spaces / color channels (since standard grayscaling might lose color information for lane lines detection)\n",
    "  # separate the L channel\n",
    "  l_channel = hls[:,:,1]\n",
    "  sobelx = cv2.Sobel(l_channel, cv2.CV_64F, 1, 0) \n",
    "\n",
    "  # Sobel x\n",
    "  abs_sobelx = np.absolute(sobelx) # Absolute x derivative to accentuate lines away from horizontal\n",
    "  scaled_sobel = np.uint8(255*abs_sobelx/np.max(abs_sobelx))\n",
    "\n",
    "  # Threshold x gradient\n",
    "  sxbinary = np.zeros_like(scaled_sobel)\n",
    "  sxbinary[(scaled_sobel >= sx_thresh[0]) & (scaled_sobel <= sx_thresh[1])] = 1\n",
    "\n",
    "  # Threshold color channel\n",
    "  s_binary = np.zeros_like(s_channel)\n",
    "  s_binary[(s_channel >= s_thresh[0]) & (s_channel <= s_thresh[1])] = 1\n",
    "\n",
    "  # Combine the two binary thresholds\n",
    "  combined_binary = np.zeros_like(sxbinary)\n",
    "  combined_binary[(s_binary == 1) | (sxbinary == 1)] = 1\n",
    "\n",
    "  return combined_binary\n"
   ]
  },
  {
   "cell_type": "code",
   "execution_count": 34,
   "metadata": {
    "executionInfo": {
     "elapsed": 253,
     "status": "ok",
     "timestamp": 1609299981447,
     "user": {
      "displayName": "Alexei Kvaschuk",
      "photoUrl": "",
      "userId": "17144558416028762237"
     },
     "user_tz": 300
    },
    "id": "O8Br0-As4MGA"
   },
   "outputs": [],
   "source": [
    "combined_binary = Color_Gradient_Combined_Edges(undistorted_img, s_thresh=(170, 255), sx_thresh=(20, 100))"
   ]
  },
  {
   "cell_type": "code",
   "execution_count": 35,
   "metadata": {
    "colab": {
     "base_uri": "https://localhost:8080/",
     "height": 277
    },
    "executionInfo": {
     "elapsed": 798,
     "status": "ok",
     "timestamp": 1609299982335,
     "user": {
      "displayName": "Alexei Kvaschuk",
      "photoUrl": "",
      "userId": "17144558416028762237"
     },
     "user_tz": 300
    },
    "id": "Yy-YbN4CC8v6",
    "outputId": "141347cc-82c2-45c6-c21e-c7605fc85eec"
   },
   "outputs": [
    {
     "data": {
      "text/plain": [
       "<matplotlib.image.AxesImage at 0x7f56708c4da0>"
      ]
     },
     "execution_count": 35,
     "metadata": {},
     "output_type": "execute_result"
    },
    {
     "data": {
      "image/png": "[encoded data removed]",
      "text/plain": [
       "<matplotlib.figure.Figure at 0x7f5671269828>"
      ]
     },
     "metadata": {
      "needs_background": "light"
     },
     "output_type": "display_data"
    }
   ],
   "source": [
    "plt.imshow(combined_binary, cmap='gray')"
   ]
  },
  {
   "cell_type": "markdown",
   "metadata": {
    "id": "3uJWKb-Fekgj"
   },
   "source": [
    "## Apply a perspective transform to rectify binary image (\"birds-eye view\").\n",
    "### Identify four source points (trapezoidal shape) by investigating an image where the lane lines are straight (*straight_lines1.jpg*).\n",
    "\n"
   ]
  },
  {
   "cell_type": "code",
   "execution_count": 4,
   "metadata": {
    "executionInfo": {
     "elapsed": 370,
     "status": "ok",
     "timestamp": 1609545767771,
     "user": {
      "displayName": "Alexei Kvaschuk",
      "photoUrl": "",
      "userId": "17144558416028762237"
     },
     "user_tz": 300
    },
    "id": "Iw2DXASQ4MIS"
   },
   "outputs": [],
   "source": [
    "src = np.float32([[190, img.shape[0]], [520, 500], [770, 500], [1135, img.shape[0]]])\n",
    "dst = np.float32([[190, img.shape[0]], [190, 0], [1135, 0], [1135, img.shape[0]]])       \n",
    "\n",
    "# Given src and dst points, calculate the perspective transform matrix\n",
    "M = cv2.getPerspectiveTransform(src, dst)\n"
   ]
  },
  {
   "cell_type": "code",
   "execution_count": 37,
   "metadata": {
    "executionInfo": {
     "elapsed": 305,
     "status": "ok",
     "timestamp": 1609112286312,
     "user": {
      "displayName": "Alexei Kvaschuk",
      "photoUrl": "",
      "userId": "17144558416028762237"
     },
     "user_tz": 300
    },
    "id": "LB4eDEWsj9ZM"
   },
   "outputs": [],
   "source": [
    "#save transform matrix\n",
    "np.save('perspective_transform.npy', M)"
   ]
  },
  {
   "cell_type": "code",
   "execution_count": 38,
   "metadata": {
    "executionInfo": {
     "elapsed": 311,
     "status": "ok",
     "timestamp": 1609112317061,
     "user": {
      "displayName": "Alexei Kvaschuk",
      "photoUrl": "",
      "userId": "17144558416028762237"
     },
     "user_tz": 300
    },
    "id": "q07xmuDfkP7m"
   },
   "outputs": [],
   "source": [
    "#M = np.load(base_dir + 'perspective_transform.npy')"
   ]
  },
  {
   "cell_type": "code",
   "execution_count": 29,
   "metadata": {
    "executionInfo": {
     "elapsed": 461,
     "status": "ok",
     "timestamp": 1609545775454,
     "user": {
      "displayName": "Alexei Kvaschuk",
      "photoUrl": "",
      "userId": "17144558416028762237"
     },
     "user_tz": 300
    },
    "id": "kc2Mj2nQkY3G"
   },
   "outputs": [],
   "source": [
    "Minv = cv2.getPerspectiveTransform(dst, src)  #np.linalg.inv(M)"
   ]
  },
  {
   "cell_type": "code",
   "execution_count": 40,
   "metadata": {
    "executionInfo": {
     "elapsed": 544,
     "status": "ok",
     "timestamp": 1609369895614,
     "user": {
      "displayName": "Alexei Kvaschuk",
      "photoUrl": "",
      "userId": "17144558416028762237"
     },
     "user_tz": 300
    },
    "id": "o5-INkyp61d1"
   },
   "outputs": [],
   "source": [
    "#np.save(base_dir + 'perspective_InvTransform.npy', Minv)"
   ]
  },
  {
   "cell_type": "code",
   "execution_count": 6,
   "metadata": {
    "executionInfo": {
     "elapsed": 384,
     "status": "ok",
     "timestamp": 1609545790527,
     "user": {
      "displayName": "Alexei Kvaschuk",
      "photoUrl": "",
      "userId": "17144558416028762237"
     },
     "user_tz": 300
    },
    "id": "wDQsyLXec5WP"
   },
   "outputs": [],
   "source": [
    "def warper(img, src, dst):\n",
    "    # Compute and apply perpective transform\n",
    "    img_size = (img.shape[1], img.shape[0])\n",
    "    M = cv2.getPerspectiveTransform(src, dst)\n",
    "    warped = cv2.warpPerspective(img, M, img_size, flags=cv2.INTER_NEAREST)  # keep same size as input image\n",
    "\n",
    "    return warped"
   ]
  },
  {
   "cell_type": "code",
   "execution_count": 43,
   "metadata": {
    "executionInfo": {
     "elapsed": 229,
     "status": "ok",
     "timestamp": 1609300016695,
     "user": {
      "displayName": "Alexei Kvaschuk",
      "photoUrl": "",
      "userId": "17144558416028762237"
     },
     "user_tz": 300
    },
    "id": "d0wo_Mrcc5Zi"
   },
   "outputs": [],
   "source": [
    "binary_warped = warper(combined_binary, src, dst)"
   ]
  },
  {
   "cell_type": "code",
   "execution_count": 44,
   "metadata": {
    "colab": {
     "base_uri": "https://localhost:8080/",
     "height": 277
    },
    "executionInfo": {
     "elapsed": 566,
     "status": "ok",
     "timestamp": 1609300017988,
     "user": {
      "displayName": "Alexei Kvaschuk",
      "photoUrl": "",
      "userId": "17144558416028762237"
     },
     "user_tz": 300
    },
    "id": "ir3x1Y0lc5ct",
    "outputId": "3d86d235-d74c-4614-9f08-639898cffe81"
   },
   "outputs": [
    {
     "data": {
      "text/plain": [
       "<matplotlib.image.AxesImage at 0x7f5670834240>"
      ]
     },
     "execution_count": 44,
     "metadata": {},
     "output_type": "execute_result"
    },
    {
     "data": {
      "image/png": "[encoded data removed]",
      "text/plain": [
       "<matplotlib.figure.Figure at 0x7f56708a24a8>"
      ]
     },
     "metadata": {
      "needs_background": "light"
     },
     "output_type": "display_data"
    }
   ],
   "source": [
    "plt.imshow(binary_warped, cmap='gray')"
   ]
  },
  {
   "cell_type": "code",
   "execution_count": 7,
   "metadata": {
    "executionInfo": {
     "elapsed": 324,
     "status": "ok",
     "timestamp": 1609545936630,
     "user": {
      "displayName": "Alexei Kvaschuk",
      "photoUrl": "",
      "userId": "17144558416028762237"
     },
     "user_tz": 300
    },
    "id": "PrEh6Y51y4bg"
   },
   "outputs": [],
   "source": [
    "# Define conversions in x and y from pixels space to meters\n",
    "ym_per_pix = 30/720 # meters per pixel in y dimension\n",
    "xm_per_pix = 3.7/(1135 - 190) # meters per pixel in x dimension"
   ]
  },
  {
   "cell_type": "markdown",
   "metadata": {
    "id": "7rX8FwTJ_2AB"
   },
   "source": [
    "## Detect lane pixels and fit to find the lane boundary."
   ]
  },
  {
   "cell_type": "code",
   "execution_count": 8,
   "metadata": {
    "executionInfo": {
     "elapsed": 553,
     "status": "ok",
     "timestamp": 1609545794718,
     "user": {
      "displayName": "Alexei Kvaschuk",
      "photoUrl": "",
      "userId": "17144558416028762237"
     },
     "user_tz": 300
    },
    "id": "F8boKTXcc5gD"
   },
   "outputs": [],
   "source": [
    "def find_lane_pixels_from_windows(binary_warped):\n",
    "    # Take a histogram of the image\n",
    "    histogram = np.sum(binary_warped[:,:], axis=0)\n",
    "\n",
    "    # Find the peak of the left and right halves of the histogram\n",
    "    # These will be the starting point for the left and right lines\n",
    "    midpoint = np.int(histogram.shape[0]//2)\n",
    "    leftx_base = np.argmax(histogram[:midpoint])\n",
    "    rightx_base = np.argmax(histogram[midpoint:]) + midpoint\n",
    "\n",
    "    # HYPERPARAMETERS\n",
    "    # Choose the number of sliding windows\n",
    "    nwindows = 9\n",
    "    # Set the width of the windows +/- margin\n",
    "    margin = 100 #50\n",
    "    # Set minimum number of pixels found to recenter window\n",
    "    minpix =  100 #50\n",
    "\n",
    "    # Set height of windows - based on nwindows above and image shape\n",
    "    window_height = np.int(binary_warped.shape[0]//nwindows)\n",
    "    # Identify the x and y positions of all nonzero pixels in the image\n",
    "    nonzero = binary_warped.nonzero()\n",
    "    nonzeroy = np.array(nonzero[0])\n",
    "    nonzerox = np.array(nonzero[1])\n",
    "    # Current positions to be updated later for each window in nwindows\n",
    "    leftx_current = leftx_base\n",
    "    rightx_current = rightx_base\n",
    "\n",
    "    # Create empty lists to receive left and right lane pixel indices\n",
    "    left_lane_inds = []\n",
    "    right_lane_inds = []\n",
    "\n",
    "    # Step through the windows one by one\n",
    "    for window in range(nwindows):\n",
    "        # Identify window boundaries in x and y (and right and left)\n",
    "        win_y_low = binary_warped.shape[0] - (window+1)*window_height\n",
    "        win_y_high = binary_warped.shape[0] - window*window_height\n",
    "        # Find the four below boundaries of the window\n",
    "        win_xleft_low = leftx_current - margin   \n",
    "        win_xleft_high = leftx_current + margin  \n",
    "        win_xright_low = rightx_current - margin  \n",
    "        win_xright_high = rightx_current + margin  \n",
    "        \n",
    "        # Identify the nonzero pixels in x and y within the window \n",
    "        good_left_inds = ((nonzeroy >= win_y_low) & (nonzeroy < win_y_high) & \n",
    "        (nonzerox >= win_xleft_low) &  (nonzerox < win_xleft_high)).nonzero()[0]\n",
    "        good_right_inds = ((nonzeroy >= win_y_low) & (nonzeroy < win_y_high) & \n",
    "        (nonzerox >= win_xright_low) &  (nonzerox < win_xright_high)).nonzero()[0]\n",
    "        \n",
    "        # Append these indices to the lists\n",
    "        left_lane_inds.append(good_left_inds)\n",
    "        right_lane_inds.append(good_right_inds)\n",
    "        \n",
    "        # If  > minpix pixels, recenter next window \n",
    "        # (`right` or `leftx_current`) on their mean position \n",
    "        if len(good_left_inds) > minpix:\n",
    "            leftx_current = int(nonzerox[good_left_inds].sum() / len(good_left_inds))\n",
    "        \n",
    "        if len(good_right_inds) > minpix:\n",
    "            rightx_current = int(nonzerox[good_right_inds].sum() / len(good_right_inds))\n",
    "        \n",
    "    # Concatenate the arrays of indices (previously was a list of lists of pixels)\n",
    "  \n",
    "    left_lane_inds = np.concatenate(left_lane_inds)\n",
    "    right_lane_inds = np.concatenate(right_lane_inds)\n",
    "    \n",
    "    # Extract left and right line pixel positions\n",
    "    leftx = nonzerox[left_lane_inds]\n",
    "    lefty = nonzeroy[left_lane_inds] \n",
    "    rightx = nonzerox[right_lane_inds]\n",
    "    righty = nonzeroy[right_lane_inds]\n",
    "\n",
    "    return leftx, lefty, rightx, righty\n"
   ]
  },
  {
   "cell_type": "code",
   "execution_count": 9,
   "metadata": {
    "executionInfo": {
     "elapsed": 381,
     "status": "ok",
     "timestamp": 1609545805517,
     "user": {
      "displayName": "Alexei Kvaschuk",
      "photoUrl": "",
      "userId": "17144558416028762237"
     },
     "user_tz": 300
    },
    "id": "qk3abqVp6h9v"
   },
   "outputs": [],
   "source": [
    "def fit_polynomial(binary_warped, from_windows_flag = True, left_fit = np.zeros(3), right_fit = np.zeros(3)):\n",
    "    \n",
    "    # Find our lane pixels first\n",
    "    if from_windows_flag:\n",
    "      leftx, lefty, rightx, righty = find_lane_pixels_from_windows(binary_warped)\n",
    "    else:\n",
    "      leftx, lefty, rightx, righty = find_lane_pixels_from_prior(binary_warped, left_fit, right_fit)\n",
    "\n",
    "    # Fit a second order polynomial to each using `np.polyfit` \n",
    "    left_fit = np.polyfit(lefty, leftx, 2)\n",
    "    right_fit = np.polyfit(righty, rightx, 2)\n",
    "\n",
    "    # Generate x and y values for plotting\n",
    "    ploty = np.linspace(0, binary_warped.shape[0]-1, binary_warped.shape[0])\n",
    "    \n",
    "    left_fitx = left_fit[0]*ploty**2 + left_fit[1]*ploty + left_fit[2]\n",
    "    right_fitx = right_fit[0]*ploty**2 + right_fit[1]*ploty + right_fit[2]\n",
    "\n",
    "    return left_fit, right_fit, left_fitx, right_fitx, ploty\n"
   ]
  },
  {
   "cell_type": "code",
   "execution_count": 10,
   "metadata": {
    "executionInfo": {
     "elapsed": 775,
     "status": "ok",
     "timestamp": 1609545810684,
     "user": {
      "displayName": "Alexei Kvaschuk",
      "photoUrl": "",
      "userId": "17144558416028762237"
     },
     "user_tz": 300
    },
    "id": "UZhZUgvR6iIF"
   },
   "outputs": [],
   "source": [
    "def fit_poly(img_shape, leftx, lefty, rightx, righty):\n",
    "    # Fit a second order polynomial \n",
    "    left_fit = np.polyfit(lefty, leftx, 2)\n",
    "    right_fit = np.polyfit(righty, rightx, 2)\n",
    "    # Generate x and y values for plotting\n",
    "    ploty = np.linspace(0, img_shape[0]-1, img_shape[0])\n",
    "    left_fitx = left_fit[0]*ploty**2 + left_fit[1]*ploty + left_fit[2]\n",
    "    right_fitx = right_fit[0]*ploty**2 + right_fit[1]*ploty + right_fit[2]\n",
    "    \n",
    "    return left_fitx, right_fitx, ploty"
   ]
  },
  {
   "cell_type": "code",
   "execution_count": 11,
   "metadata": {
    "executionInfo": {
     "elapsed": 262,
     "status": "ok",
     "timestamp": 1609545810684,
     "user": {
      "displayName": "Alexei Kvaschuk",
      "photoUrl": "",
      "userId": "17144558416028762237"
     },
     "user_tz": 300
    },
    "id": "W8-p1DI3wmWF"
   },
   "outputs": [],
   "source": [
    "def find_lane_pixels_from_prior(binary_warped, left_fit, right_fit):\n",
    "\n",
    "    # HYPERPARAMETER\n",
    "    # Choose the width of the margin around the previous polynomial to search\n",
    "    margin = 100\n",
    "\n",
    "    # Grab activated pixels\n",
    "    nonzero = binary_warped.nonzero()\n",
    "    nonzeroy = np.array(nonzero[0])\n",
    "    nonzerox = np.array(nonzero[1])\n",
    "    \n",
    "    # Set the area of search based on activated x-values within the +/- margin of our polynomial function \n",
    "    left_lane_inds = ((nonzerox > left_fit[0]*nonzeroy**2 + left_fit[1]*nonzeroy + left_fit[2] - margin) & (nonzerox <= left_fit[0]*nonzeroy**2 + left_fit[1]*nonzeroy + left_fit[2] + margin)).nonzero()[0]\n",
    "    right_lane_inds = ((nonzerox > right_fit[0]*nonzeroy**2 + right_fit[1]*nonzeroy + right_fit[2] - margin) & (nonzerox <= right_fit[0]*nonzeroy**2 + right_fit[1]*nonzeroy + right_fit[2] + margin)).nonzero()[0]\n",
    "    \n",
    "    # Extract left and right line pixel positions\n",
    "    leftx = nonzerox[left_lane_inds]\n",
    "    lefty = nonzeroy[left_lane_inds] \n",
    "    rightx = nonzerox[right_lane_inds]\n",
    "    righty = nonzeroy[right_lane_inds]\n",
    "\n",
    "    return leftx, lefty, rightx, righty"
   ]
  },
  {
   "cell_type": "markdown",
   "metadata": {
    "id": "wFEdctaxbYtS"
   },
   "source": [
    "## Determine the curvature of the lane and vehicle position with respect to center."
   ]
  },
  {
   "cell_type": "code",
   "execution_count": 12,
   "metadata": {
    "executionInfo": {
     "elapsed": 384,
     "status": "ok",
     "timestamp": 1609545818076,
     "user": {
      "displayName": "Alexei Kvaschuk",
      "photoUrl": "",
      "userId": "17144558416028762237"
     },
     "user_tz": 300
    },
    "id": "udNP6CHnwmcQ"
   },
   "outputs": [],
   "source": [
    "def measure_curvature_real(left_fit, right_fit, ploty):\n",
    "  # Define y-value where we want radius of curvature by choosing the maximum y-value corresponding to the bottom of the image\n",
    "  y_eval = np.max(ploty)\n",
    "  left_fit_real = []\n",
    "  \n",
    "  # Convert best fit coefficients to real-world/meters scale\n",
    "  left_fit_real = np.zeros_like(left_fit)\n",
    "  left_fit_real[0] = xm_per_pix / (ym_per_pix**2) * left_fit[0]\n",
    "  left_fit_real[1] = xm_per_pix / ym_per_pix * left_fit[1]\n",
    "  left_fit_real[2] = left_fit[2]\n",
    "  right_fit_real = np.zeros_like(left_fit)\n",
    "  right_fit_real[0] = xm_per_pix / (ym_per_pix**2) * right_fit[0]\n",
    "  right_fit_real[1] = xm_per_pix / ym_per_pix * right_fit[1]\n",
    "  right_fit_real[2] = right_fit[2]\n",
    "\n",
    "  # R_curve (radius of curvature)\n",
    "  left_curverad = (1 + (2*left_fit_real[0]*y_eval*ym_per_pix + left_fit_real[1])**2)**1.5 / (2*np.abs(left_fit_real[0]))  \n",
    "  right_curverad = (1 + (2*right_fit_real[0]*y_eval*ym_per_pix + right_fit_real[1])**2)**1.5 / (2*np.abs(right_fit_real[0]))  \n",
    "\n",
    "  # return average curvature of left/right lanes\n",
    "  return int((left_curverad + right_curverad) / 2)\n"
   ]
  },
  {
   "cell_type": "code",
   "execution_count": 13,
   "metadata": {
    "executionInfo": {
     "elapsed": 478,
     "status": "ok",
     "timestamp": 1609546317712,
     "user": {
      "displayName": "Alexei Kvaschuk",
      "photoUrl": "",
      "userId": "17144558416028762237"
     },
     "user_tz": 300
    },
    "id": "hxekjU6xbXrK"
   },
   "outputs": [],
   "source": [
    "def offset_real(image_width, image_height, left_fit, right_fit):\n",
    "    \n",
    "  image_center = image_width / 2\n",
    "  \n",
    "  lane_lower_left = left_fit[0]*image_height**2 + left_fit[1]*image_height + left_fit[2]\n",
    "  lane_lower_right = right_fit[0]*image_height**2 + right_fit[1]*image_height + right_fit[2]\n",
    "\n",
    "  lane_center = (lane_lower_left + lane_lower_right) / 2\n",
    "\n",
    "  return (image_center - lane_center) * xm_per_pix\n"
   ]
  },
  {
   "cell_type": "code",
   "execution_count": 14,
   "metadata": {
    "executionInfo": {
     "elapsed": 328,
     "status": "ok",
     "timestamp": 1609545829231,
     "user": {
      "displayName": "Alexei Kvaschuk",
      "photoUrl": "",
      "userId": "17144558416028762237"
     },
     "user_tz": 300
    },
    "id": "zKvTa6qDzH0q"
   },
   "outputs": [],
   "source": [
    "def project_back_to_original(undist, warped, left_fitx, right_fitx, ploty):\n",
    "  # Create an image to draw the lines on\n",
    "  warp_zero = np.zeros_like(warped).astype(np.uint8)\n",
    "  color_warp = np.dstack((warp_zero, warp_zero, warp_zero))\n",
    "\n",
    "  # Recast the x and y points into usable format for cv2.fillPoly()\n",
    "  pts_left = np.array([np.transpose(np.vstack([left_fitx, ploty]))])\n",
    "  pts_right = np.array([np.flipud(np.transpose(np.vstack([right_fitx, ploty])))])\n",
    "  pts = np.hstack((pts_left, pts_right))\n",
    "\n",
    "  # Draw the lane onto the warped blank image\n",
    "  cv2.fillPoly(color_warp, np.int_([pts]), (0,255, 0))\n",
    "\n",
    "  # Warp the blank back to original image space using inverse perspective matrix (Minv)\n",
    "  newwarp = cv2.warpPerspective(color_warp, Minv, (undist.shape[1], undist.shape[0])) \n",
    "  # Combine the result with the original image\n",
    "  result = cv2.addWeighted(undist, 1, newwarp, 0.3, 0)\n",
    "\n",
    "  return result"
   ]
  },
  {
   "cell_type": "code",
   "execution_count": 15,
   "metadata": {
    "executionInfo": {
     "elapsed": 357,
     "status": "ok",
     "timestamp": 1609545835897,
     "user": {
      "displayName": "Alexei Kvaschuk",
      "photoUrl": "",
      "userId": "17144558416028762237"
     },
     "user_tz": 300
    },
    "id": "TZJef-lAVrNk"
   },
   "outputs": [],
   "source": [
    "def add_info_offset_curvature(output_unlabled, curvature, offset):\n",
    "  \n",
    "  position = 'left' if offset < 0 else 'right'\n",
    "\n",
    "  # font \n",
    "  font = cv2.FONT_HERSHEY_SIMPLEX \n",
    "    \n",
    "  # org \n",
    "  org = (50, 50)\n",
    "\n",
    "  org2 = (50, 100) \n",
    "    \n",
    "  # fontScale \n",
    "  fontScale = 1\n",
    "    \n",
    "  # White color \n",
    "  color = (255, 255, 255) \n",
    "    \n",
    "  # Line thickness of 2 px \n",
    "  thickness = 2\n",
    "    \n",
    "  # Using cv2.putText() method \n",
    "  final_image = cv2.putText(output_unlabled, f\"Radius of Curvature = {curvature}m\", org, font,  \n",
    "                    fontScale, color, thickness, cv2.LINE_AA) \n",
    "  final_image = cv2.putText(output_unlabled, f'Vehicle is {abs(offset):.2f}m {position} of center', org2, font,  \n",
    "                    fontScale, color, thickness, cv2.LINE_AA)\n",
    "  \n",
    "  return final_image\n"
   ]
  },
  {
   "cell_type": "code",
   "execution_count": 1,
   "metadata": {},
   "outputs": [],
   "source": [
    "# exponential smoothing \n",
    "# y_t = a * y_t + a * (1-a)^1 * y_{t-1} + a * (1-a)^2 * y_{t-2} + ... + a*(1-a)^n * \n",
    "# y_{t-n}\n",
    "\n",
    "def exponential_smoothing(input_series, alpha_value):\n",
    "    output=sum([alpha_value * (1 - alpha_value) ** i * x for i, x in \n",
    "                enumerate(reversed(input_series))])\n",
    "    \n",
    "    return output"
   ]
  },
  {
   "cell_type": "code",
   "execution_count": 16,
   "metadata": {},
   "outputs": [],
   "source": [
    "# Define a class to receive the characteristics of each line detection\n",
    "class Line():\n",
    "    def __init__(self):\n",
    "        \n",
    "        # frame count\n",
    "        self.frame = 0\n",
    "\n",
    "        # polynomial coeffs history\n",
    "        self.poly_fit = collections.deque()\n",
    "\n",
    "        # curvature history\n",
    "        self.curvature_history = collections.deque()\n",
    "\n",
    "    def smoothed_poly_fit(self, history_length):\n",
    "      return sum(list(self.poly_fit)[-history_length:]) / len(list(self.poly_fit)[-history_length:])\n",
    "\n",
    "    def exp_smoothed_poly_fit(self, history_length, alpha):\n",
    "        return exponential_smoothing(list(self.poly_fit)[-history_length:], alpha)\n",
    "    \n",
    "    "
   ]
  },
  {
   "cell_type": "code",
   "execution_count": 38,
   "metadata": {
    "executionInfo": {
     "elapsed": 297,
     "status": "ok",
     "timestamp": 1609545884223,
     "user": {
      "displayName": "Alexei Kvaschuk",
      "photoUrl": "",
      "userId": "17144558416028762237"
     },
     "user_tz": 300
    },
    "id": "2Mo0kG9YVrXe"
   },
   "outputs": [],
   "source": [
    "left_Lane = Line()\n",
    "right_Lane = Line()"
   ]
  },
  {
   "cell_type": "code",
   "execution_count": 39,
   "metadata": {
    "executionInfo": {
     "elapsed": 535,
     "status": "ok",
     "timestamp": 1609546334316,
     "user": {
      "displayName": "Alexei Kvaschuk",
      "photoUrl": "",
      "userId": "17144558416028762237"
     },
     "user_tz": 300
    },
    "id": "i0I5NOtwbXx7"
   },
   "outputs": [],
   "source": [
    "def process_image(image):\n",
    "\n",
    "  left_Lane.frame += 1\n",
    "\n",
    "  undistorted_img = cv2.undistort(image, mtx, dist, None, mtx)\n",
    "  \n",
    "  combined_binary = Color_Gradient_Combined_Edges(undistorted_img, s_thresh=(170, 255), sx_thresh=(20, 100))\n",
    "  \n",
    "  binary_warped = warper(combined_binary, src, dst)\n",
    "  \n",
    "  n_from_windows = 24\n",
    "  \n",
    "  if left_Lane.frame < n_from_windows:  # Initialize by 'from_windows' method over the first 25 frames (~1 second of video)\n",
    "    left_fit, right_fit, left_fitx, right_fitx, ploty = fit_polynomial(binary_warped, from_windows_flag = True)\n",
    "    left_Lane.poly_fit.append(left_fit)\n",
    "    right_Lane.poly_fit.append(right_fit)\n",
    "  else:\n",
    "    # Calculate smoothed prior as an average over the most recent ~0.5 seconds history\n",
    "    prior_history = 18\n",
    "    smoothed_prior_left = left_Lane.smoothed_poly_fit(prior_history)\n",
    "    smoothed_prior_right = right_Lane.smoothed_poly_fit(prior_history)\n",
    "    left_fit, right_fit, left_fitx, right_fitx, ploty = fit_polynomial(binary_warped, from_windows_flag = False, left_fit = smoothed_prior_left, right_fit = smoothed_prior_right)\n",
    "    left_Lane.poly_fit.popleft()\n",
    "    left_Lane.poly_fit.append(left_fit)\n",
    "    right_Lane.poly_fit.popleft()\n",
    "    right_Lane.poly_fit.append(right_fit)\n",
    "\n",
    "    # Calculate final line as smoothed quadratics over the most recent ~0.5 seconds history (including)\n",
    "    n_prior_poly_fit = 18\n",
    "    smoothed_fit_left = left_Lane.smoothed_poly_fit(n_prior_poly_fit)\n",
    "    smoothed_fit_right = right_Lane.smoothed_poly_fit(n_prior_poly_fit)\n",
    "    left_fitx = smoothed_fit_left[0]*ploty**2 + smoothed_fit_left[1]*ploty + smoothed_fit_left[2]\n",
    "    right_fitx = smoothed_fit_right[0]*ploty**2 + smoothed_fit_right[1]*ploty + smoothed_fit_right[2]\n",
    "  \n",
    "  output_unlabled = project_back_to_original(undistorted_img, binary_warped, left_fitx, right_fitx, ploty)\n",
    "\n",
    "  curvature = measure_curvature_real(left_fit, right_fit, ploty)\n",
    "\n",
    "  offset = offset_real(image.shape[1], image.shape[0], left_fit, right_fit)\n",
    "\n",
    "  final_image = add_info_offset_curvature(output_unlabled, curvature, offset)\n",
    "\n",
    "  return final_image"
   ]
  },
  {
   "cell_type": "code",
   "execution_count": 40,
   "metadata": {
    "colab": {
     "base_uri": "https://localhost:8080/"
    },
    "executionInfo": {
     "elapsed": 2393,
     "status": "ok",
     "timestamp": 1609545892425,
     "user": {
      "displayName": "Alexei Kvaschuk",
      "photoUrl": "",
      "userId": "17144558416028762237"
     },
     "user_tz": 300
    },
    "id": "vx8vTZ_nbX_j",
    "outputId": "a6ef0e5d-6521-4153-fbf1-7f91d9548bd2"
   },
   "outputs": [],
   "source": [
    "# Import everything needed to edit/save/watch video clips\n",
    "from moviepy.editor import VideoFileClip\n",
    "from IPython.display import HTML"
   ]
  },
  {
   "cell_type": "code",
   "execution_count": 41,
   "metadata": {
    "colab": {
     "base_uri": "https://localhost:8080/"
    },
    "executionInfo": {
     "elapsed": 206999,
     "status": "ok",
     "timestamp": 1609546544178,
     "user": {
      "displayName": "Alexei Kvaschuk",
      "photoUrl": "",
      "userId": "17144558416028762237"
     },
     "user_tz": 300
    },
    "id": "nmna2nxVbYA6",
    "outputId": "a8f538c0-d86c-49a5-dd13-c151bf95f906"
   },
   "outputs": [
    {
     "name": "stdout",
     "output_type": "stream",
     "text": [
      "[MoviePy] >>>> Building video output_images/project_video_output.mp4\n",
      "[MoviePy] Writing video output_images/project_video_output.mp4\n"
     ]
    },
    {
     "name": "stderr",
     "output_type": "stream",
     "text": [
      "100%|█████████▉| 1260/1261 [03:54<00:00,  5.52it/s]\n"
     ]
    },
    {
     "name": "stdout",
     "output_type": "stream",
     "text": [
      "[MoviePy] Done.\n",
      "[MoviePy] >>>> Video ready: output_images/project_video_output.mp4 \n",
      "\n",
      "CPU times: user 1min 37s, sys: 14.8 s, total: 1min 52s\n",
      "Wall time: 3min 57s\n"
     ]
    }
   ],
   "source": [
    "#clip1 = VideoFileClip(base_dir +\"project_video.mp4\").subclip(0, seconds)\n",
    "#seconds = 12\n",
    "clip1 = VideoFileClip(\"project_video.mp4\")#.subclip(0, seconds)\n",
    "#video_output = base_dir + f'output_images/project_video_output_{seconds}seconds.mp4'\n",
    "video_output = 'output_images/project_video_output.mp4'\n",
    "output_clip = clip1.fl_image(process_image) \n",
    "%time output_clip.write_videofile(video_output, audio=False)"
   ]
  },
  {
   "cell_type": "code",
   "execution_count": null,
   "metadata": {},
   "outputs": [],
   "source": []
  }
 ],
 "metadata": {
  "colab": {
   "authorship_tag": "ABX9TyO+rhPmOLeHWiMZpCa3Erl6",
   "collapsed_sections": [],
   "name": "Udacity SDCEN P2.ipynb",
   "provenance": []
  },
  "kernelspec": {
   "display_name": "Python 3",
   "language": "python",
   "name": "python3"
  },
  "language_info": {
   "codemirror_mode": {
    "name": "ipython",
    "version": 3
   },
   "file_extension": ".py",
   "mimetype": "text/x-python",
   "name": "python",
   "nbconvert_exporter": "python",
   "pygments_lexer": "ipython3",
   "version": "3.6.3"
  }
 },
 "nbformat": 4,
 "nbformat_minor": 1
}
